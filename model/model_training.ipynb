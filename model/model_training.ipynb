{
 "cells": [
  {
   "cell_type": "markdown",
   "metadata": {},
   "source": [
    "# Tiền xử lý"
   ]
  },
  {
   "cell_type": "code",
   "execution_count": null,
   "id": "20b9b0e4",
   "metadata": {
    "execution": {
     "iopub.execute_input": "2023-08-01T03:42:15.573144Z",
     "iopub.status.busy": "2023-08-01T03:42:15.572146Z",
     "iopub.status.idle": "2023-08-01T03:42:16.931998Z",
     "shell.execute_reply": "2023-08-01T03:42:16.930048Z"
    },
    "papermill": {
     "duration": 1.368052,
     "end_time": "2023-08-01T03:42:16.934833",
     "exception": false,
     "start_time": "2023-08-01T03:42:15.566781",
     "status": "completed"
    },
    "tags": []
   },
   "outputs": [],
   "source": [
    "import os\n",
    "import pandas as pd\n",
    "\n",
    "# Đọc dữ liệu từ file csv\n",
    "fall_dataset = pd.read_csv(\"data/CompleteDataSet.csv\")\n",
    "\n",
    "# Xóa các hàng có giá trị bị thiếu hoặc trùng lặp\n",
    "fall_dataset.drop_duplicates(inplace=True)\n",
    "fall_dataset.dropna(inplace=True)"
   ]
  },
  {
   "cell_type": "code",
   "execution_count": null,
   "id": "2357cfd7",
   "metadata": {
    "execution": {
     "iopub.execute_input": "2023-08-01T03:42:16.943687Z",
     "iopub.status.busy": "2023-08-01T03:42:16.943284Z",
     "iopub.status.idle": "2023-08-01T03:42:17.515897Z",
     "shell.execute_reply": "2023-08-01T03:42:17.514236Z"
    },
    "papermill": {
     "duration": 0.580823,
     "end_time": "2023-08-01T03:42:17.519309",
     "exception": false,
     "start_time": "2023-08-01T03:42:16.938486",
     "status": "completed"
    },
    "tags": []
   },
   "outputs": [],
   "source": [
    "fall_dataset.head()"
   ]
  },
  {
   "cell_type": "code",
   "execution_count": null,
   "id": "6fc01caa",
   "metadata": {
    "execution": {
     "iopub.execute_input": "2023-08-01T03:42:17.528504Z",
     "iopub.status.busy": "2023-08-01T03:42:17.527784Z",
     "iopub.status.idle": "2023-08-01T03:42:17.546274Z",
     "shell.execute_reply": "2023-08-01T03:42:17.545110Z"
    },
    "papermill": {
     "duration": 0.025735,
     "end_time": "2023-08-01T03:42:17.548702",
     "exception": false,
     "start_time": "2023-08-01T03:42:17.522967",
     "status": "completed"
    },
    "tags": []
   },
   "outputs": [],
   "source": [
    "fall_dataset['anomaly'].value_counts()"
   ]
  },
  {
   "cell_type": "code",
   "execution_count": null,
   "metadata": {},
   "outputs": [],
   "source": [
    "from sklearn.model_selection import train_test_split\n",
    "from sklearn.preprocessing import StandardScaler\n",
    "from imblearn.over_sampling import SMOTE\n",
    "\n",
    "X = fall_dataset.iloc[:, :-1]\n",
    "y = fall_dataset.iloc[:, -1:]\n",
    "\n",
    "# Áp dụng Smote cho bộ dữ liệu\n",
    "smote = SMOTE(random_state=42)\n",
    "X, y = smote.fit_resample(X, y) # type: ignore\n",
    "X_train = pd.DataFrame(X)\n",
    "y_train = pd.DataFrame(y)\n",
    "\n",
    "# Tách tập dữ liệu thành tập huấn luyện và tập kiểm tra\n",
    "X_train, X_test, y_train, y_test = train_test_split(X_train, y_train, test_size=0.2, random_state=42)\n",
    "\n",
    "# Chuẩn hóa các đặc trưng (tùy chọn, nhưng có thể cải thiện hiệu suất cho một số mô hình)\n",
    "scaler = StandardScaler()\n",
    "X_train = scaler.fit_transform(X_train)\n",
    "X_test = scaler.fit_transform(X_test)\n",
    "\n",
    "y_train = y_train.values.ravel()\n",
    "y_test = y_test.values.ravel()"
   ]
  },
  {
   "cell_type": "code",
   "execution_count": null,
   "metadata": {},
   "outputs": [],
   "source": [
    "# Đếm mỗi loại giá trị của mỗi lớp trong tập huấn luyện và tập kiểm tra\n",
    "from collections import Counter\n",
    "print('Train Dataset Shape %s' % Counter(y_train))\n",
    "print('Test Dataset Shape %s' % Counter(y_test))"
   ]
  },
  {
   "cell_type": "markdown",
   "metadata": {},
   "source": [
    "# Vẽ biểu đồ 3D"
   ]
  },
  {
   "cell_type": "code",
   "execution_count": null,
   "id": "e62b3f14",
   "metadata": {
    "execution": {
     "iopub.execute_input": "2023-08-01T03:42:17.607413Z",
     "iopub.status.busy": "2023-08-01T03:42:17.606770Z",
     "iopub.status.idle": "2023-08-01T03:42:18.080468Z",
     "shell.execute_reply": "2023-08-01T03:42:18.079230Z"
    },
    "papermill": {
     "duration": 0.496832,
     "end_time": "2023-08-01T03:42:18.098314",
     "exception": false,
     "start_time": "2023-08-01T03:42:17.601482",
     "status": "completed"
    },
    "tags": []
   },
   "outputs": [],
   "source": [
    "import plotly.graph_objects as go\n",
    "import pandas as pd\n",
    "\n",
    "data_sets = [(X_train, y_train, 'Train'), (X_test, y_test, 'Test')]\n",
    "train_colors = ['blue', 'red']\n",
    "test_colors = ['green', 'orange']\n",
    "visible_dict = {'Normal': True, 'Anomaly': True}\n",
    "fig = go.Figure()\n",
    "\n",
    "# Tạo biểu đồ 3D cho tập huấn luyện và tập kiểm tra\n",
    "for (X, y, name_prefix), colors in zip(data_sets, [train_colors, test_colors]):\n",
    "    balanced_data = pd.DataFrame({\n",
    "        'x': X[:, 0],\n",
    "        'y': X[:, 1],\n",
    "        'z': X[:, 2],\n",
    "        'anomaly': y\n",
    "    }).sample(n=min(50000, len(X)), random_state=42)\n",
    "\n",
    "    for anomaly_label, color in zip(range(2), colors):\n",
    "        scatter = go.Scatter3d(\n",
    "            x=balanced_data[balanced_data['anomaly'] == anomaly_label]['x'],\n",
    "            y=balanced_data[balanced_data['anomaly'] == anomaly_label]['y'],\n",
    "            z=balanced_data[balanced_data['anomaly'] == anomaly_label]['z'],\n",
    "            mode='markers',\n",
    "            marker=dict(\n",
    "                size=4,\n",
    "                color=color,\n",
    "                opacity=0.1\n",
    "            ),\n",
    "            name=f'{name_prefix} Data: {\"Normal\" if anomaly_label == 0 else \"Anomaly\"}',\n",
    "            visible=visible_dict.get('Normal', True) if anomaly_label == 0 else visible_dict.get('Anomaly', True)\n",
    "        )\n",
    "        fig.add_trace(scatter)\n",
    "\n",
    "# Thêm nút để chuyển đổi giữa các lớp\n",
    "buttons = [dict(label='Normal',\n",
    "                method='update',\n",
    "                args=[{'visible': [True, False, True, False, visible_dict['Anomaly'], visible_dict['Anomaly']]}]),\n",
    "           dict(label='Anomaly',\n",
    "                method='update',\n",
    "                args=[{'visible': [False, True, False, True, visible_dict['Normal'], visible_dict['Normal']]}])]\n",
    "\n",
    "# Cập nhật và hiển thị biểu đồ\n",
    "fig.update_layout(updatemenus=[dict(type='buttons', showactive=False, buttons=buttons)])\n",
    "fig.show()\n"
   ]
  },
  {
   "cell_type": "markdown",
   "id": "12e72ff1",
   "metadata": {
    "papermill": {
     "duration": 0.015115,
     "end_time": "2023-08-01T03:42:18.128288",
     "exception": false,
     "start_time": "2023-08-01T03:42:18.113173",
     "status": "completed"
    },
    "tags": []
   },
   "source": [
    "# Thuật toán học có giám sát (Supervised Learning Algorithms)"
   ]
  },
  {
   "cell_type": "code",
   "execution_count": null,
   "id": "56d0d4dc",
   "metadata": {
    "execution": {
     "iopub.execute_input": "2023-08-01T03:42:18.160710Z",
     "iopub.status.busy": "2023-08-01T03:42:18.160308Z",
     "iopub.status.idle": "2023-08-01T04:26:17.782035Z",
     "shell.execute_reply": "2023-08-01T04:26:17.780405Z"
    },
    "papermill": {
     "duration": 2639.650029,
     "end_time": "2023-08-01T04:26:17.794240",
     "exception": false,
     "start_time": "2023-08-01T03:42:18.144211",
     "status": "completed"
    },
    "tags": []
   },
   "outputs": [],
   "source": [
    "from sklearn.naive_bayes import GaussianNB\n",
    "from sklearn.tree import DecisionTreeClassifier\n",
    "from sklearn.neighbors import KNeighborsClassifier\n",
    "\n",
    "supervised_learning_models = {\n",
    "    'KNN': KNeighborsClassifier(),\n",
    "    'Decision Tree': DecisionTreeClassifier(),\n",
    "    'Naive Bayes': GaussianNB(),\n",
    "}"
   ]
  },
  {
   "cell_type": "code",
   "execution_count": null,
   "metadata": {},
   "outputs": [],
   "source": [
    "from sklearn.model_selection import GridSearchCV\n",
    "\n",
    "# Huấn luyện mô hình\n",
    "train_models = {}\n",
    "for name, classifier in supervised_learning_models.items():\n",
    "    grid_search = GridSearchCV(classifier, param_grid={})\n",
    "    grid_search.fit(X_train, y_train)\n",
    "    train_models[name] = grid_search"
   ]
  },
  {
   "cell_type": "code",
   "execution_count": null,
   "id": "1ada11f4",
   "metadata": {
    "execution": {
     "iopub.execute_input": "2023-08-01T04:26:17.855001Z",
     "iopub.status.busy": "2023-08-01T04:26:17.854324Z",
     "iopub.status.idle": "2023-08-01T04:26:18.553602Z",
     "shell.execute_reply": "2023-08-01T04:26:18.551628Z"
    },
    "papermill": {
     "duration": 0.733454,
     "end_time": "2023-08-01T04:26:18.556224",
     "exception": true,
     "start_time": "2023-08-01T04:26:17.822770",
     "status": "failed"
    },
    "tags": []
   },
   "outputs": [],
   "source": [
    "# Đánh giá mô hình\n",
    "for name, model in train_models.items():\n",
    "    \n",
    "    # Tạo dự đoán trên tập kiểm tra X_test\n",
    "    y_pred = model.predict(X_test)\n",
    "\n",
    "    # So sánh dự đoán với giá trị từ tập kết quả y_test\n",
    "    confusion_mat = pd.DataFrame({'actuals':y_test, 'prediction':y_pred}).value_counts()\n",
    "\n",
    "    # Lấy các giá trị TP, TN, FP, FN từ confusion matrix\n",
    "    TP, TN, FP, FN = confusion_mat[1,1], confusion_mat[0,0], confusion_mat[0,1], confusion_mat[1,0]\n",
    "\n",
    "    # Tính toán các chỉ số đánh giá\n",
    "    accuracy = (TP + TN) / (TP + TN + FP + FN)\n",
    "    precision = TP/(TP+FP)\n",
    "    recall = TP/(TP+FN)\n",
    "    f1=(2*precision*recall)/(precision+recall)\n",
    "\n",
    "    # In kết quả\n",
    "    print(f\"{name}:\")\n",
    "    print(confusion_mat)\n",
    "    print(f\"Accuracy: {accuracy:.2f}, Precision: {precision:.2f}, Recall: {recall:.2f}, F1: {f1:.2f}\\n\")\n"
   ]
  },
  {
   "cell_type": "code",
   "execution_count": null,
   "metadata": {},
   "outputs": [],
   "source": [
    "# Lưu mô hình tốt nhất\n",
    "# import pickle\n",
    "# with open('models/knn_model.pkl', 'wb') as file:\n",
    "#     pickle.dump(train_models['KNN'], file)"
   ]
  }
 ],
 "metadata": {
  "kernelspec": {
   "display_name": "Python 3",
   "language": "python",
   "name": "python3"
  },
  "language_info": {
   "codemirror_mode": {
    "name": "ipython",
    "version": 3
   },
   "file_extension": ".py",
   "mimetype": "text/x-python",
   "name": "python",
   "nbconvert_exporter": "python",
   "pygments_lexer": "ipython3",
   "version": "3.10.6"
  },
  "papermill": {
   "default_parameters": {},
   "duration": 2657.836495,
   "end_time": "2023-08-01T04:26:21.209831",
   "environment_variables": {},
   "exception": true,
   "input_path": "__notebook__.ipynb",
   "output_path": "__notebook__.ipynb",
   "parameters": {},
   "start_time": "2023-08-01T03:42:03.373336",
   "version": "2.4.0"
  }
 },
 "nbformat": 4,
 "nbformat_minor": 5
}
